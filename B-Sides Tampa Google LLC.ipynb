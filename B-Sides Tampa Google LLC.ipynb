{
 "cells": [
  {
   "cell_type": "code",
   "execution_count": 2,
   "metadata": {},
   "outputs": [],
   "source": [
    "import requests\n",
    "import pandas as pd\n",
    "import json"
   ]
  },
  {
   "cell_type": "code",
   "execution_count": 3,
   "metadata": {},
   "outputs": [],
   "source": [
    "# Suppress SSL warning\n",
    "from requests.packages.urllib3.exceptions import InsecureRequestWarning\n",
    "requests.packages.urllib3.disable_warnings(InsecureRequestWarning)"
   ]
  },
  {
   "cell_type": "code",
   "execution_count": null,
   "metadata": {},
   "outputs": [],
   "source": [
    "#### Google Cloud CIDR Block Ranges #########\n",
    "#https://www.gstatic.com/ipranges/goog.json\n",
    "#https://www.gstatic.com/ipranges/cloud.json\n",
    "#https://github.com/ExtraHop/code-examples/blob/main/sunburst/threats.json"
   ]
  },
  {
   "cell_type": "code",
   "execution_count": 64,
   "metadata": {},
   "outputs": [],
   "source": [
    "import io\n",
    "from netaddr import IPAddress \n",
    "from netaddr import IPNetwork\n",
    "endpoint = 'https://www.gstatic.com/ipranges/cloud.json'\n",
    "r = requests.get(endpoint,  verify=False)\n",
    "data = r.json()['prefixes']\n",
    "#data = [json.loads(line) for line in open(r, 'r')]\n",
    "pd.set_option('display.max_rows', None)\n",
    "df = pd.DataFrame(data)\n",
    "cidrdf = df['ipv4Prefix']\n",
    "#cidrdf = df[~df['ipv4Prefix'].str.contains('/')]\n",
    "cidr = cidrdf.dropna()\n"
   ]
  },
  {
   "cell_type": "code",
   "execution_count": 72,
   "metadata": {},
   "outputs": [],
   "source": [
    "import csv\n",
    "for networks in cidr:\n",
    "    ip = IPNetwork(networks)\n",
    "    subnets = list(ip.subnet(24))\n",
    "    #print subnets\n",
    "    count = 0\n",
    "    \n",
    "    while count < len(subnets):\n",
    "        #print(subnets[count])\n",
    "        #count +=1\n",
    "        with open(r'/Users/johnsmith/notebooks/gCloudcidrs.csv', \"ab\") as f:  # <-- Your path may vary. \n",
    "            writer = csv.writer(f)\n",
    "            #writer = csv.writer(open(\"docidrs.csv\", \"wb\"),delimiter='\\n')\n",
    "            writer.writerow([subnets[count]])\n",
    "            #print subnets[count]\n",
    "            count +=1"
   ]
  },
  {
   "cell_type": "code",
   "execution_count": 69,
   "metadata": {},
   "outputs": [],
   "source": [
    "googleData = pd.read_csv(r'/Users/johnsmith/notebooks/gCloudcidrs.csv',names=\"A\")\n",
    "googleCidr = googleData.loc[:,'A'].str.rsplit(pat='.',n=1,expand=True)[0] # < -- Count by /24 CIDR block\n",
    "#googleCidr"
   ]
  },
  {
   "cell_type": "code",
   "execution_count": 73,
   "metadata": {},
   "outputs": [],
   "source": [
    "from parsebrologs import ParseBroLogs\n",
    "data = ParseBroLogs('conn.log')\n",
    "df = pd.DataFrame(json.loads(data.to_json()))\n",
    "#df\n",
    "#server = df[~df['id.resp_h'].str.contains(':')]\n",
    "#addr = server['id.resp_h']\n",
    "cidr = df.loc[:,'id.resp_h'].str.rsplit(pat='.',n=1,expand=True)[0] # < -- Count by /24 CIDR block\n",
    "cidr.value_counts().head(20)"
   ]
  },
  {
   "cell_type": "code",
   "execution_count": 77,
   "metadata": {},
   "outputs": [],
   "source": [
    "joined_ips=pd.merge(df,googleData, right_on=googleCidr, left_on=cidr)\n",
    "joined_df = joined_ips\n",
    "joined_df\n",
    "#joined_df.groupby(['id.orig_h','key_0']).size()"
   ]
  },
  {
   "cell_type": "code",
   "execution_count": null,
   "metadata": {},
   "outputs": [],
   "source": []
  }
 ],
 "metadata": {
  "kernelspec": {
   "display_name": "Python 3",
   "language": "python",
   "name": "python3"
  },
  "language_info": {
   "codemirror_mode": {
    "name": "ipython",
    "version": 2
   },
   "file_extension": ".py",
   "mimetype": "text/x-python",
   "name": "python",
   "nbconvert_exporter": "python",
   "pygments_lexer": "ipython2",
   "version": "2.7.15"
  }
 },
 "nbformat": 4,
 "nbformat_minor": 2
}
