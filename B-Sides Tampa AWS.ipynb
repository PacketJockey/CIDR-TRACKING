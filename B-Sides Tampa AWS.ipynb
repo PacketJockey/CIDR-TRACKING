{
 "cells": [
  {
   "cell_type": "code",
   "execution_count": 63,
   "metadata": {},
   "outputs": [],
   "source": [
    "#!/usr/bin/env python\n",
    "import requests\n",
    "import pandas as pd\n",
    "import json\n",
    "\n",
    "ip_ranges = requests.get('https://ip-ranges.amazonaws.com/ip-ranges.json').json()['prefixes']\n",
    "amazon_ips = [item['ip_prefix'] for item in ip_ranges if item[\"service\"] == \"AMAZON\"]\n",
    "cidr = [item['ip_prefix'] for item in ip_ranges if item[\"service\"] == \"EC2\"]"
   ]
  },
  {
   "cell_type": "code",
   "execution_count": 57,
   "metadata": {},
   "outputs": [],
   "source": [
    "import csv\n",
    "from netaddr import IPAddress \n",
    "from netaddr import IPNetwork\n",
    "for networks in cidr:\n",
    "    ip = IPNetwork(networks)\n",
    "    subnets = list(ip.subnet(24))\n",
    "    #print subnets\n",
    "    count = 0\n",
    "    \n",
    "    while count < len(subnets):\n",
    "        #print(subnets[count])\n",
    "        #count +=1\n",
    "        with open(r'/Users/johnsmith/notebooks/awsCidrs.csv', \"ab\") as f:\n",
    "            writer = csv.writer(f)\n",
    "            #writer = csv.writer(open(\"docidrs.csv\", \"wb\"),delimiter='\\n')\n",
    "            writer.writerow([subnets[count]])\n",
    "            #print subnets[count]\n",
    "            count +=1"
   ]
  },
  {
   "cell_type": "code",
   "execution_count": 64,
   "metadata": {},
   "outputs": [],
   "source": [
    "awsData = pd.read_csv(r'/Users/johnsmith/notebooks/awsCidrs.csv',names=\"A\")\n",
    "awsCidr = awsData.loc[:,'A'].str.rsplit(pat='.',n=1,expand=True)[0] # < -- Count by /24 CIDR block\n",
    "#awsCidr"
   ]
  },
  {
   "cell_type": "code",
   "execution_count": 65,
   "metadata": {},
   "outputs": [],
   "source": [
    "from parsebrologs import ParseBroLogs\n",
    "data = ParseBroLogs('conn.log')\n",
    "df = pd.DataFrame(json.loads(data.to_json()))\n",
    "#df\n",
    "#server = df[~df['id.resp_h'].str.contains(':')]\n",
    "#addr = server['id.resp_h']\n",
    "cidr = df.loc[:,'id.resp_h'].str.rsplit(pat='.',n=1,expand=True)[0] # < -- Count by /24 CIDR block\n",
    "#cidr.value_counts().head(50)"
   ]
  },
  {
   "cell_type": "code",
   "execution_count": 66,
   "metadata": {},
   "outputs": [
    {
     "data": {
      "text/plain": [
       "id.orig_h      key_0    \n",
       "192.168.1.105  64.252.81    49\n",
       "dtype: int64"
      ]
     },
     "execution_count": 66,
     "metadata": {},
     "output_type": "execute_result"
    }
   ],
   "source": [
    "joined_ips=pd.merge(df,awsData, right_on=awsCidr, left_on=cidr)\n",
    "joined_df = joined_ips.drop_duplicates()\n",
    "#joined_df\n",
    "joined_df.groupby(['id.orig_h','key_0']).size()"
   ]
  },
  {
   "cell_type": "code",
   "execution_count": null,
   "metadata": {},
   "outputs": [],
   "source": []
  }
 ],
 "metadata": {
  "kernelspec": {
   "display_name": "Python 3",
   "language": "python",
   "name": "python3"
  },
  "language_info": {
   "codemirror_mode": {
    "name": "ipython",
    "version": 2
   },
   "file_extension": ".py",
   "mimetype": "text/x-python",
   "name": "python",
   "nbconvert_exporter": "python",
   "pygments_lexer": "ipython2",
   "version": "2.7.15"
  }
 },
 "nbformat": 4,
 "nbformat_minor": 2
}
